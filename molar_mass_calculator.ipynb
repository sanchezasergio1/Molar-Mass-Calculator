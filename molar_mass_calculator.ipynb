{
 "cells": [
  {
   "cell_type": "markdown",
   "id": "f1580b62",
   "metadata": {},
   "source": [
    "# ⚗️ Molar Mass Calculator\n",
    "\n",
    "This Jupyter notebook allows you to calculate the **molar mass** of chemical compounds, including those with:\n",
    "\n",
    "- Parentheses and nested groups\n",
    "- Hydration notation using dots (`·`)\n",
    "- Ions with positive or negative **charges**\n",
    "\n",
    "---\n",
    "\n",
    "### 🔧 How to Use\n",
    "\n",
    "1. Click **Run** to execute the cell below.\n",
    "2. Enter the chemical formula when prompted.\n",
    "3. The calculated molar mass will be displayed (with charge, if specified correctly).\n",
    "\n",
    "---\n",
    "\n",
    "### 💡 Examples\n",
    "\n",
    "- `H2O`\n",
    "- `CuSO4·5H2O`\n",
    "- `NH4^+`\n",
    "- `SO4^2-`\n",
    "- `K4[Fe(CN)6]`\n",
    "- `Mg(OH)2`\n",
    "- `Fe(NO3)3`\n",
    "\n",
    "---\n",
    "\n",
    "### ⚠️ Charge Notation\n",
    "\n",
    "- Charges **must** be written using the caret (`^`) notation:\n",
    "  - ✅ `NH4^+`, `SO4^2-`\n",
    "  - ❌ `NH4+`, `SO42-`\n",
    "\n",
    "If the formula ends with a `+` or `-` but doesn't use `^`, the charge will be **ignored** and a **note will be shown**.\n",
    "\n",
    "---\n",
    "\n",
    "### 🧠 Behind the Scenes\n",
    "\n",
    "All parsing and calculation logic is handled by an external Python module called `chem_utils.py`. This keeps the notebook clean, modular, and easier to maintain.\n",
    "\n",
    "> You can edit and expand the `chem_utils.py` file as needed to include more elements or custom behavior.\n",
    "\n"
   ]
  },
  {
   "cell_type": "code",
   "execution_count": 6,
   "id": "dbc2b05b",
   "metadata": {},
   "outputs": [
    {
     "name": "stdout",
     "output_type": "stream",
     "text": [
      "Note: Charge not extracted. Use '^' notation for charge (e.g. NH4^+, SO4^2-).\n",
      "Molar mass of Fe2+ is 111.690 g/mol\n"
     ]
    }
   ],
   "source": [
    "from chem_utils import calculate_molar_mass\n",
    "\n",
    "formula = input(\"Enter chemical formula (e.g. K4[Fe(CN)6], CuSO4·5H2O, NH4^+, ...): \").strip()\n",
    "\n",
    "try:\n",
    "    mass, charge = calculate_molar_mass(formula)\n",
    "    if charge:\n",
    "        print(f\"Molar mass of {formula} is {mass:.3f} g/mol with charge {charge}\")\n",
    "    else:\n",
    "        print(f\"Molar mass of {formula} is {mass:.3f} g/mol\")\n",
    "except ValueError as e:\n",
    "    print(f\"Error: {e}\")"
   ]
  }
 ],
 "metadata": {
  "kernelspec": {
   "display_name": "Python 3",
   "language": "python",
   "name": "python3"
  },
  "language_info": {
   "codemirror_mode": {
    "name": "ipython",
    "version": 3
   },
   "file_extension": ".py",
   "mimetype": "text/x-python",
   "name": "python",
   "nbconvert_exporter": "python",
   "pygments_lexer": "ipython3",
   "version": "3.13.5"
  }
 },
 "nbformat": 4,
 "nbformat_minor": 5
}
